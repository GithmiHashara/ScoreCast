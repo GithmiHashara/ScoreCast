{
  "nbformat": 4,
  "nbformat_minor": 0,
  "metadata": {
    "colab": {
      "provenance": [],
      "authorship_tag": "ABX9TyPqBM6HFh/+haNt/ufsU/Ve",
      "include_colab_link": true
    },
    "kernelspec": {
      "name": "python3",
      "display_name": "Python 3"
    },
    "language_info": {
      "name": "python"
    }
  },
  "cells": [
    {
      "cell_type": "markdown",
      "metadata": {
        "id": "view-in-github",
        "colab_type": "text"
      },
      "source": [
        "<a href=\"https://colab.research.google.com/github/GithmiHashara/ScoreCast/blob/main/Score_Predictor.ipynb\" target=\"_parent\"><img src=\"https://colab.research.google.com/assets/colab-badge.svg\" alt=\"Open In Colab\"/></a>"
      ]
    },
    {
      "cell_type": "code",
      "execution_count": 15,
      "metadata": {
        "id": "I5RtZgNGiKQi"
      },
      "outputs": [],
      "source": [
        "import pandas as pd\n",
        "import numpy as np\n",
        "import matplotlib.pyplot as plt\n",
        "import tensorflow as tf"
      ]
    },
    {
      "cell_type": "code",
      "source": [
        "data = {\n",
        "    \"Hours_Studied\": [1, 2, 3, 4, 5, 6, 7, 8, 9, 10],\n",
        "    \"Score\":[10, 20, 30, 40, 50, 60, 65, 75, 85, 95]\n",
        "}\n",
        "df = pd.DataFrame(data)"
      ],
      "metadata": {
        "id": "JzJOEs8eirno"
      },
      "execution_count": 3,
      "outputs": []
    },
    {
      "cell_type": "code",
      "source": [
        "X = np.array(df[\"Hours_Studied\"]).reshape(-1, 1)\n",
        "y = np.array(df[\"Score\"]).reshape(-1, 1)"
      ],
      "metadata": {
        "id": "yXygzGHVjSAc"
      },
      "execution_count": 5,
      "outputs": []
    },
    {
      "cell_type": "code",
      "source": [
        "X = X.astype(np.float32)\n",
        "y = y.astype(np.float32)"
      ],
      "metadata": {
        "id": "NQNXLQ9Djugd"
      },
      "execution_count": 6,
      "outputs": []
    },
    {
      "cell_type": "code",
      "source": [
        "model = tf.keras.Sequential([\n",
        "    tf.keras.layers.Dense(1, input_shape=(1,), use_bias=True)\n",
        "])"
      ],
      "metadata": {
        "colab": {
          "base_uri": "https://localhost:8080/"
        },
        "id": "Go_Hf-gKkFNg",
        "outputId": "fe85f8ac-fece-40aa-b61d-9dc0b657d73c"
      },
      "execution_count": 7,
      "outputs": [
        {
          "output_type": "stream",
          "name": "stderr",
          "text": [
            "/usr/local/lib/python3.11/dist-packages/keras/src/layers/core/dense.py:87: UserWarning: Do not pass an `input_shape`/`input_dim` argument to a layer. When using Sequential models, prefer using an `Input(shape)` object as the first layer in the model instead.\n",
            "  super().__init__(activity_regularizer=activity_regularizer, **kwargs)\n"
          ]
        }
      ]
    },
    {
      "cell_type": "code",
      "source": [
        "model.compile(\n",
        "    optimizer=tf.keras.optimizers.Adam(learning_rate=0.01),\n",
        "    loss='mean_squared_error',\n",
        "    metrics=['mae']\n",
        ")"
      ],
      "metadata": {
        "id": "5sp2kcnvkmj4"
      },
      "execution_count": 8,
      "outputs": []
    },
    {
      "cell_type": "code",
      "source": [
        "print(\"Training the model...\")\n",
        "history = model.fit(X, y, epochs=2000, verbose=0)"
      ],
      "metadata": {
        "colab": {
          "base_uri": "https://localhost:8080/"
        },
        "id": "45uhfL56lUGP",
        "outputId": "c20755af-35e0-495f-8215-fdd63bb175a5"
      },
      "execution_count": 10,
      "outputs": [
        {
          "output_type": "stream",
          "name": "stdout",
          "text": [
            "Training the model...\n"
          ]
        }
      ]
    },
    {
      "cell_type": "code",
      "source": [
        "predicted = model.predict(X, verbose=0)"
      ],
      "metadata": {
        "id": "O3hUGha2mKPA"
      },
      "execution_count": 11,
      "outputs": []
    },
    {
      "cell_type": "code",
      "source": [
        "final_loss = history.history['loss'][-1]\n",
        "print(f\"Final training loss: {final_loss:.4f}\")"
      ],
      "metadata": {
        "colab": {
          "base_uri": "https://localhost:8080/"
        },
        "id": "0-lBvIHFmVgo",
        "outputId": "84cb139b-a67d-4e92-b30d-63b0d18d0949"
      },
      "execution_count": 12,
      "outputs": [
        {
          "output_type": "stream",
          "name": "stdout",
          "text": [
            "Final training loss: 13.8191\n"
          ]
        }
      ]
    },
    {
      "cell_type": "code",
      "source": [
        "weights, bias = model.get_weights()\n",
        "print(f\"Model equation: Score = {weights[0][0]:.2f} * Hours + {bias[0]:.2f}\")"
      ],
      "metadata": {
        "colab": {
          "base_uri": "https://localhost:8080/"
        },
        "id": "Q5jzIClrnWLf",
        "outputId": "536914f0-5c34-4630-964d-dd990014c27b"
      },
      "execution_count": 14,
      "outputs": [
        {
          "output_type": "stream",
          "name": "stdout",
          "text": [
            "Model equation: Score = 8.06 * Hours + 8.93\n"
          ]
        }
      ]
    },
    {
      "cell_type": "code",
      "source": [
        "plt.figure(figsize=(10, 6))\n",
        "plt.scatter(X, y, color='magenta', label= 'Actual Scores ', s=60, alpha=0.7)\n",
        "plt.plot(X, predicted, color='purple', linewidth=2, label='Model Prediction')\n",
        "plt.xlabel('Hours Studied')\n",
        "plt.ylabel('Score')\n",
        "plt.title('Score Prediction Based on Study Hours')\n",
        "plt.legend()\n",
        "plt.grid(True, alpha=0.3)\n",
        "plt.tight_layout()\n",
        "plt.show()"
      ],
      "metadata": {
        "colab": {
          "base_uri": "https://localhost:8080/",
          "height": 607
        },
        "id": "-v74i1GMtplH",
        "outputId": "8ace73a8-2ce5-41b5-c38a-dfa5f0acb9e4"
      },
      "execution_count": 20,
      "outputs": [
        {
          "output_type": "display_data",
          "data": {
            "text/plain": [
              "<Figure size 1000x600 with 1 Axes>"
            ],
            "image/png": "[encoded data removed]"
          },
          "metadata": {}
        }
      ]
    },
    {
      "cell_type": "code",
      "source": [
        "print(\"\\nPredictions vs Actual:\")\n",
        "for i in range(len(X)):\n",
        "  print(f\"Hours: {X[i][0]:.0f}, Actual: {y[i][0]:.0f}, Predicted: {predicted[i][0]:.1f}\")\n"
      ],
      "metadata": {
        "colab": {
          "base_uri": "https://localhost:8080/"
        },
        "id": "Xe_8zwJqusDl",
        "outputId": "c13df974-747f-4283-afd7-170ffc688e3f"
      },
      "execution_count": 21,
      "outputs": [
        {
          "output_type": "stream",
          "name": "stdout",
          "text": [
            "\n",
            "Predictions vs Actual:\n",
            "Hours: 1, Actual: 10, Predicted: 17.0\n",
            "Hours: 2, Actual: 20, Predicted: 25.1\n",
            "Hours: 3, Actual: 30, Predicted: 33.1\n",
            "Hours: 4, Actual: 40, Predicted: 41.2\n",
            "Hours: 5, Actual: 50, Predicted: 49.2\n",
            "Hours: 6, Actual: 60, Predicted: 57.3\n",
            "Hours: 7, Actual: 65, Predicted: 65.4\n",
            "Hours: 8, Actual: 75, Predicted: 73.4\n",
            "Hours: 9, Actual: 85, Predicted: 81.5\n",
            "Hours: 10, Actual: 95, Predicted: 89.5\n"
          ]
        }
      ]
    },
    {
      "cell_type": "code",
      "source": [
        "ss_res = np.sum((y - predicted) ** 2)\n",
        "ss_tot = np.sum((y - np.mean(y)) ** 2)\n",
        "r_squared = 1 - (ss_res / ss_tot)\n",
        "print(f\"\\nR-squared: {r_squared:.4f}\")"
      ],
      "metadata": {
        "colab": {
          "base_uri": "https://localhost:8080/"
        },
        "id": "o4lKOmOOJAyZ",
        "outputId": "e45a8e20-7034-442b-f356-2453cc74f507"
      },
      "execution_count": 22,
      "outputs": [
        {
          "output_type": "stream",
          "name": "stdout",
          "text": [
            "\n",
            "R-squared: 0.9806\n"
          ]
        }
      ]
    },
    {
      "cell_type": "code",
      "source": [],
      "metadata": {
        "id": "odOKiG48M-kI"
      },
      "execution_count": null,
      "outputs": []
    }
  ]
}