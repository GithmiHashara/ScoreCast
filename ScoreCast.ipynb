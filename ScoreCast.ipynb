{
  "nbformat": 4,
  "nbformat_minor": 0,
  "metadata": {
    "colab": {
      "provenance": [],
      "authorship_tag": "ABX9TyMc2gqNRDtXYChF3/jbQ6Zf",
      "include_colab_link": true
    },
    "kernelspec": {
      "name": "python3",
      "display_name": "Python 3"
    },
    "language_info": {
      "name": "python"
    }
  },
  "cells": [
    {
      "cell_type": "markdown",
      "metadata": {
        "id": "view-in-github",
        "colab_type": "text"
      },
      "source": [
        "<a href=\"https://colab.research.google.com/github/GithmiHashara/ScoreCast/blob/main/ScoreCast.ipynb\" target=\"_parent\"><img src=\"https://colab.research.google.com/assets/colab-badge.svg\" alt=\"Open In Colab\"/></a>"
      ]
    },
    {
      "cell_type": "code",
      "execution_count": 2,
      "metadata": {
        "id": "pCYIMCUTH_Zy"
      },
      "outputs": [],
      "source": [
        "import pandas  as pd\n",
        "import numpy as np\n",
        "import matplotlib.pyplot as plt\n",
        "import tensorflow as tf"
      ]
    },
    {
      "cell_type": "code",
      "source": [
        "data = {\n",
        "    \"Hours_Studied\": [1, 2, 3, 4, 5, 6, 7, 8, 9, 10],\n",
        "    \"Score\": [10, 20, 30, 40, 50, 60, 65, 75, 85, 95]\n",
        "}\n",
        "\n",
        "df = pd.DataFrame(data)\n",
        "print(\"Data:\")\n",
        "print(df)"
      ],
      "metadata": {
        "colab": {
          "base_uri": "https://localhost:8080/"
        },
        "id": "EXnKbFh-IeN2",
        "outputId": "0753ef70-588c-4a6b-9705-ba0efb37b6a7"
      },
      "execution_count": 3,
      "outputs": [
        {
          "output_type": "stream",
          "name": "stdout",
          "text": [
            "Data:\n",
            "   Hours_Studied  Score\n",
            "0              1     10\n",
            "1              2     20\n",
            "2              3     30\n",
            "3              4     40\n",
            "4              5     50\n",
            "5              6     60\n",
            "6              7     65\n",
            "7              8     75\n",
            "8              9     85\n",
            "9             10     95\n"
          ]
        }
      ]
    },
    {
      "cell_type": "code",
      "source": [
        "X = np.array(df[\"Hours_Studied\"])\n",
        "y = np.array(df[\"Score\"])"
      ],
      "metadata": {
        "id": "xjFuse79KIXh"
      },
      "execution_count": 5,
      "outputs": []
    },
    {
      "cell_type": "code",
      "source": [
        "X = X.reshape(-1, 1)\n",
        "y = y.reshape(-1, 1)"
      ],
      "metadata": {
        "id": "YlRTaHVkKeSy"
      },
      "execution_count": 6,
      "outputs": []
    },
    {
      "cell_type": "code",
      "source": [
        "model = tf.keras.Sequential([\n",
        "    tf.keras.layers.Dense(8, activation=\"relu\", input_shape=(1,)),\n",
        "    tf.keras.layers.Dense(1)\n",
        "])"
      ],
      "metadata": {
        "colab": {
          "base_uri": "https://localhost:8080/"
        },
        "id": "SXBsynMvKv31",
        "outputId": "2d03c461-ed3d-4c73-ed99-5149182d21f2"
      },
      "execution_count": 7,
      "outputs": [
        {
          "output_type": "stream",
          "name": "stderr",
          "text": [
            "/usr/local/lib/python3.11/dist-packages/keras/src/layers/core/dense.py:87: UserWarning: Do not pass an `input_shape`/`input_dim` argument to a layer. When using Sequential models, prefer using an `Input(shape)` object as the first layer in the model instead.\n",
            "  super().__init__(activity_regularizer=activity_regularizer, **kwargs)\n"
          ]
        }
      ]
    },
    {
      "cell_type": "code",
      "source": [
        "model.compile(optimizer=\"adam\", loss=\"mean_squared_error\")\n",
        "model.fit(X, y, epochs= 100, verbose=0)"
      ],
      "metadata": {
        "colab": {
          "base_uri": "https://localhost:8080/"
        },
        "id": "fWSfu4_ULQdW",
        "outputId": "147dedab-4877-43c0-cf9f-2aa52e1d6bf3"
      },
      "execution_count": 8,
      "outputs": [
        {
          "output_type": "execute_result",
          "data": {
            "text/plain": [
              "<keras.src.callbacks.history.History at 0x782a8c82d650>"
            ]
          },
          "metadata": {},
          "execution_count": 8
        }
      ]
    },
    {
      "cell_type": "code",
      "source": [
        "hours = np.array([6.5, 7.5, 8.5]).reshape(-1,1)\n",
        "predicted_scores = model.predict(hours)\n",
        "print(\"Predictions for study hours [6.5, 7.5, 8.5]:\")\n",
        "print(predicted_scores)"
      ],
      "metadata": {
        "colab": {
          "base_uri": "https://localhost:8080/"
        },
        "id": "3eIGjCk2LuRI",
        "outputId": "42ecbca3-58d4-4d8c-c9c3-652713a02c95"
      },
      "execution_count": 9,
      "outputs": [
        {
          "output_type": "stream",
          "name": "stdout",
          "text": [
            "\u001b[1m1/1\u001b[0m \u001b[32m━━━━━━━━━━━━━━━━━━━━\u001b[0m\u001b[37m\u001b[0m \u001b[1m0s\u001b[0m 67ms/step\n",
            "Predictions for study hours [6.5, 7.5, 8.5]:\n",
            "[[-0.9385794]\n",
            " [-1.112582 ]\n",
            " [-1.286585 ]]\n"
          ]
        }
      ]
    },
    {
      "cell_type": "code",
      "source": [],
      "metadata": {
        "id": "xEBWEz4VMuju"
      },
      "execution_count": null,
      "outputs": []
    }
  ]
}